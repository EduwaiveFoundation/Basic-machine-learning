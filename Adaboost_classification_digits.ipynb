{
  "nbformat": 4,
  "nbformat_minor": 0,
  "metadata": {
    "colab": {
      "name": "Adaboost_classification_digits.ipynb",
      "version": "0.3.2",
      "provenance": [],
      "collapsed_sections": []
    },
    "kernelspec": {
      "name": "python3",
      "display_name": "Python 3"
    }
  },
  "cells": [
    {
      "metadata": {
        "id": "Tu1zuRiFI1AA",
        "colab_type": "text"
      },
      "cell_type": "markdown",
      "source": [
        "# **Classification Problem**\n",
        "\n",
        "**Algorithm:- AdaBoost ** "
      ]
    },
    {
      "metadata": {
        "id": "PH6ir1eHjKSM",
        "colab_type": "code",
        "colab": {}
      },
      "cell_type": "code",
      "source": [
        "from sklearn import datasets\n",
        "import pandas as pd\n",
        "from sklearn.model_selection import train_test_split\n",
        "from sklearn.ensemble import AdaBoostClassifier\n",
        "from sklearn.tree import DecisionTreeClassifier\n",
        "from sklearn.metrics import accuracy_score\n",
        "\n",
        "\n",
        "\n"
      ],
      "execution_count": 0,
      "outputs": []
    },
    {
      "metadata": {
        "id": "B4LTcTOU-kQF",
        "colab_type": "code",
        "colab": {
          "base_uri": "https://localhost:8080/",
          "height": 34
        },
        "outputId": "5fdba19a-4696-4714-e06d-d7a5ce09671b"
      },
      "cell_type": "code",
      "source": [
        "digits=datasets.load_digits()           # loading boston dataset\n",
        "X=digits.data\n",
        "y=digits.target                   \n",
        "X.shape                            #to find rows and columns\n",
        "\n",
        "\n"
      ],
      "execution_count": 17,
      "outputs": [
        {
          "output_type": "execute_result",
          "data": {
            "text/plain": [
              "(1797, 64)"
            ]
          },
          "metadata": {
            "tags": []
          },
          "execution_count": 17
        }
      ]
    },
    {
      "metadata": {
        "id": "eAxcBL40kwCa",
        "colab_type": "code",
        "colab": {
          "base_uri": "https://localhost:8080/",
          "height": 34
        },
        "outputId": "859f8630-0dc1-42e2-fc8b-b13ff171bec5"
      },
      "cell_type": "code",
      "source": [
        "X_train, X_test, y_train, y_test = train_test_split(X, y, test_size=0.20,random_state=42)\n",
        "print(\"Training and testing split was successful.\")"
      ],
      "execution_count": 18,
      "outputs": [
        {
          "output_type": "stream",
          "text": [
            "Training and testing split was successful.\n"
          ],
          "name": "stdout"
        }
      ]
    },
    {
      "metadata": {
        "id": "4kgK00ba_UPw",
        "colab_type": "code",
        "colab": {
          "base_uri": "https://localhost:8080/",
          "height": 34
        },
        "outputId": "19022ced-d43c-41fe-9e14-44e8e26ebd4d"
      },
      "cell_type": "code",
      "source": [
        "model = AdaBoostClassifier(base_estimator=DecisionTreeClassifier(),n_estimators=2)             # intialising the model\n",
        "model.fit(X_train,y_train)\n",
        "pred=model.predict(X_test)\n",
        "\n",
        "acc = accuracy_score(y_test,pred)                # evaluating the model\n",
        "print(\"ACCURACY SCORE OF AdaBoost IS \",acc)"
      ],
      "execution_count": 21,
      "outputs": [
        {
          "output_type": "stream",
          "text": [
            "ACCURACY SCORE OF AdaBoost IS  0.8388888888888889\n"
          ],
          "name": "stdout"
        }
      ]
    },
    {
      "metadata": {
        "id": "MOPerq11miGx",
        "colab_type": "code",
        "colab": {}
      },
      "cell_type": "code",
      "source": [
        ""
      ],
      "execution_count": 0,
      "outputs": []
    }
  ]
}